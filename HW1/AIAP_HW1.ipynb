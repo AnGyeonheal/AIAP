{
 "cells": [
  {
   "cell_type": "code",
   "execution_count": 24,
   "outputs": [],
   "source": [
    "import pandas as pd\n",
    "from sklearn.preprocessing import OrdinalEncoder, OneHotEncoder, MinMaxScaler, StandardScaler\n",
    "import numpy as np\n",
    "\n",
    "# 데이터셋 로드\n",
    "df = pd.read_csv('diamonds.csv')\n",
    "\n",
    "# 범주형 변수 확인\n",
    "categorical_columns = df.select_dtypes(include=['object']).columns"
   ],
   "metadata": {
    "collapsed": false,
    "ExecuteTime": {
     "end_time": "2024-03-17T14:05:21.552041400Z",
     "start_time": "2024-03-17T14:05:21.511986700Z"
    }
   },
   "id": "initial_id"
  },
  {
   "cell_type": "code",
   "execution_count": 25,
   "outputs": [],
   "source": [
    "# 3.1.1 Ordinal Encoding\n",
    "ordinal_encoder = OrdinalEncoder()\n",
    "df[categorical_columns] = ordinal_encoder.fit_transform(df[categorical_columns])"
   ],
   "metadata": {
    "collapsed": false,
    "ExecuteTime": {
     "end_time": "2024-03-17T14:05:21.584047600Z",
     "start_time": "2024-03-17T14:05:21.554041600Z"
    }
   },
   "id": "42613cea955c9910"
  },
  {
   "cell_type": "code",
   "execution_count": 26,
   "outputs": [
    {
     "name": "stdout",
     "output_type": "stream",
     "text": [
      "One-Hot Encoded 'cut' variable's first 5 samples:\n",
      " [[0. 0. 1. 0. 0.]\n",
      " [0. 0. 0. 1. 0.]\n",
      " [0. 1. 0. 0. 0.]\n",
      " [0. 0. 0. 1. 0.]\n",
      " [0. 1. 0. 0. 0.]]\n"
     ]
    },
    {
     "name": "stderr",
     "output_type": "stream",
     "text": [
      "C:\\Users\\heal\\AppData\\Roaming\\Python\\Python38\\site-packages\\sklearn\\preprocessing\\_encoders.py:868: FutureWarning: `sparse` was renamed to `sparse_output` in version 1.2 and will be removed in 1.4. `sparse_output` is ignored unless you leave `sparse` to its default value.\n",
      "  warnings.warn(\n"
     ]
    }
   ],
   "source": [
    "# 3.1.2 One-Hot Encoding\n",
    "one_hot_encoder = OneHotEncoder(sparse=False)\n",
    "cut_encoded = one_hot_encoder.fit_transform(df[['cut']])\n",
    "print(\"One-Hot Encoded 'cut' variable's first 5 samples:\\n\", cut_encoded[:5])"
   ],
   "metadata": {
    "collapsed": false,
    "ExecuteTime": {
     "end_time": "2024-03-17T14:05:21.598051100Z",
     "start_time": "2024-03-17T14:05:21.584047600Z"
    }
   },
   "id": "8f2faaad51b20ae6"
  },
  {
   "cell_type": "code",
   "execution_count": 27,
   "outputs": [
    {
     "name": "stdout",
     "output_type": "stream",
     "text": [
      "\n",
      "First five rows after MinMaxScaling:\n",
      "       carat   cut     color   clarity     depth     table     price       'x'  \\\n",
      "0  0.006237  0.50  0.166667  0.428571  0.513889  0.230769  0.000000  0.367784   \n",
      "1  0.002079  0.75  0.166667  0.285714  0.466667  0.346154  0.000000  0.362197   \n",
      "2  0.006237  0.25  0.166667  0.571429  0.386111  0.423077  0.000054  0.377095   \n",
      "3  0.018711  0.75  0.833333  0.714286  0.538889  0.288462  0.000433  0.391061   \n",
      "4  0.022869  0.25  1.000000  0.428571  0.563889  0.288462  0.000487  0.404097   \n",
      "\n",
      "        'y'       'z'  \n",
      "0  0.067572  0.076415  \n",
      "1  0.065195  0.072642  \n",
      "2  0.069100  0.072642  \n",
      "3  0.071817  0.082704  \n",
      "4  0.073854  0.086478  \n"
     ]
    }
   ],
   "source": [
    "# 연속형 변수 확인\n",
    "continuous_columns = df.select_dtypes(include=[np.number]).columns\n",
    "# 3.2.1 MinMaxScaling\n",
    "min_max_scaler = MinMaxScaler()\n",
    "df[continuous_columns] = min_max_scaler.fit_transform(df[continuous_columns])\n",
    "print(\"\\nFirst five rows after MinMaxScaling:\\n\", df.head())"
   ],
   "metadata": {
    "collapsed": false,
    "ExecuteTime": {
     "end_time": "2024-03-17T14:05:21.651063200Z",
     "start_time": "2024-03-17T14:05:21.600052400Z"
    }
   },
   "id": "429af130b5c55c3e"
  },
  {
   "cell_type": "code",
   "execution_count": 28,
   "outputs": [],
   "source": [
    "# 데이터셋 다시 로드하여 StandardScaling 수행\n",
    "df = pd.read_csv('diamonds.csv')\n",
    "# 3.1.1 Ordinal Encoding 다시 수행 (StandardScaling에 앞서 필요)\n",
    "df[categorical_columns] = ordinal_encoder.fit_transform(df[categorical_columns])"
   ],
   "metadata": {
    "collapsed": false,
    "ExecuteTime": {
     "end_time": "2024-03-17T14:05:21.707106900Z",
     "start_time": "2024-03-17T14:05:21.616055Z"
    }
   },
   "id": "2ca66f080294ec31"
  },
  {
   "cell_type": "code",
   "execution_count": 29,
   "outputs": [
    {
     "name": "stdout",
     "output_type": "stream",
     "text": [
      "\n",
      "First five rows after StandardScaling:\n",
      "       carat       cut     color   clarity     depth     table     price  \\\n",
      "0 -1.198168 -0.538099 -0.937163 -0.484264 -0.174092 -1.099672 -0.904095   \n",
      "1 -1.240361  0.434949 -0.937163 -1.064117 -1.360738  1.585529 -0.904095   \n",
      "2 -1.198168 -1.511147 -0.937163  0.095589 -3.385019  3.375663 -0.903844   \n",
      "3 -1.071587  0.434949  1.414272  0.675442  0.454133  0.242928 -0.902090   \n",
      "4 -1.029394 -1.511147  2.002131 -0.484264  1.082358  0.242928 -0.901839   \n",
      "\n",
      "        'x'       'y'       'z'  \n",
      "0 -1.587837 -1.536196 -1.571129  \n",
      "1 -1.641325 -1.658774 -1.741175  \n",
      "2 -1.498691 -1.457395 -1.741175  \n",
      "3 -1.364971 -1.317305 -1.287720  \n",
      "4 -1.240167 -1.212238 -1.117674  \n"
     ]
    }
   ],
   "source": [
    "# 3.2.2 StandardScaling\n",
    "standard_scaler = StandardScaler()\n",
    "df[continuous_columns] = standard_scaler.fit_transform(df[continuous_columns])\n",
    "print(\"\\nFirst five rows after StandardScaling:\\n\", df.head())"
   ],
   "metadata": {
    "collapsed": false,
    "ExecuteTime": {
     "end_time": "2024-03-17T14:05:21.717076500Z",
     "start_time": "2024-03-17T14:05:21.680070900Z"
    }
   },
   "id": "a6dd1963f32223cd"
  }
 ],
 "metadata": {
  "kernelspec": {
   "display_name": "Python 3",
   "language": "python",
   "name": "python3"
  },
  "language_info": {
   "codemirror_mode": {
    "name": "ipython",
    "version": 2
   },
   "file_extension": ".py",
   "mimetype": "text/x-python",
   "name": "python",
   "nbconvert_exporter": "python",
   "pygments_lexer": "ipython2",
   "version": "2.7.6"
  }
 },
 "nbformat": 4,
 "nbformat_minor": 5
}
